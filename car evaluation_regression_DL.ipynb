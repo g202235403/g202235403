{
 "cells": [
  {
   "cell_type": "code",
   "execution_count": 1,
   "id": "cb481842",
   "metadata": {},
   "outputs": [
    {
     "data": {
      "text/html": [
       "<div>\n",
       "<style scoped>\n",
       "    .dataframe tbody tr th:only-of-type {\n",
       "        vertical-align: middle;\n",
       "    }\n",
       "\n",
       "    .dataframe tbody tr th {\n",
       "        vertical-align: top;\n",
       "    }\n",
       "\n",
       "    .dataframe thead th {\n",
       "        text-align: right;\n",
       "    }\n",
       "</style>\n",
       "<table border=\"1\" class=\"dataframe\">\n",
       "  <thead>\n",
       "    <tr style=\"text-align: right;\">\n",
       "      <th></th>\n",
       "      <th>vhigh.1</th>\n",
       "      <th>2</th>\n",
       "      <th>2.1</th>\n",
       "      <th>small</th>\n",
       "      <th>low</th>\n",
       "      <th>unacc</th>\n",
       "    </tr>\n",
       "    <tr>\n",
       "      <th>vhigh</th>\n",
       "      <th></th>\n",
       "      <th></th>\n",
       "      <th></th>\n",
       "      <th></th>\n",
       "      <th></th>\n",
       "      <th></th>\n",
       "    </tr>\n",
       "  </thead>\n",
       "  <tbody>\n",
       "    <tr>\n",
       "      <th>vhigh</th>\n",
       "      <td>vhigh</td>\n",
       "      <td>2</td>\n",
       "      <td>2</td>\n",
       "      <td>small</td>\n",
       "      <td>med</td>\n",
       "      <td>unacc</td>\n",
       "    </tr>\n",
       "    <tr>\n",
       "      <th>vhigh</th>\n",
       "      <td>vhigh</td>\n",
       "      <td>2</td>\n",
       "      <td>2</td>\n",
       "      <td>small</td>\n",
       "      <td>high</td>\n",
       "      <td>unacc</td>\n",
       "    </tr>\n",
       "    <tr>\n",
       "      <th>vhigh</th>\n",
       "      <td>vhigh</td>\n",
       "      <td>2</td>\n",
       "      <td>2</td>\n",
       "      <td>med</td>\n",
       "      <td>low</td>\n",
       "      <td>unacc</td>\n",
       "    </tr>\n",
       "    <tr>\n",
       "      <th>vhigh</th>\n",
       "      <td>vhigh</td>\n",
       "      <td>2</td>\n",
       "      <td>2</td>\n",
       "      <td>med</td>\n",
       "      <td>med</td>\n",
       "      <td>unacc</td>\n",
       "    </tr>\n",
       "    <tr>\n",
       "      <th>vhigh</th>\n",
       "      <td>vhigh</td>\n",
       "      <td>2</td>\n",
       "      <td>2</td>\n",
       "      <td>med</td>\n",
       "      <td>high</td>\n",
       "      <td>unacc</td>\n",
       "    </tr>\n",
       "  </tbody>\n",
       "</table>\n",
       "</div>"
      ],
      "text/plain": [
       "      vhigh.1  2 2.1  small   low  unacc\n",
       "vhigh                                   \n",
       "vhigh   vhigh  2   2  small   med  unacc\n",
       "vhigh   vhigh  2   2  small  high  unacc\n",
       "vhigh   vhigh  2   2    med   low  unacc\n",
       "vhigh   vhigh  2   2    med   med  unacc\n",
       "vhigh   vhigh  2   2    med  high  unacc"
      ]
     },
     "execution_count": 1,
     "metadata": {},
     "output_type": "execute_result"
    }
   ],
   "source": [
    "import numpy as np\n",
    "import pandas as pd\n",
    "import seaborn as sns\n",
    "\n",
    "data = pd.read_csv('C:/Users/민지/Downloads/car.data', index_col=0)\n",
    "data.head()"
   ]
  },
  {
   "cell_type": "code",
   "execution_count": 2,
   "id": "a6058ad2",
   "metadata": {},
   "outputs": [
    {
     "data": {
      "text/plain": [
       "vhigh.1    0\n",
       "2          0\n",
       "2.1        0\n",
       "small      0\n",
       "low        0\n",
       "unacc      0\n",
       "dtype: int64"
      ]
     },
     "execution_count": 2,
     "metadata": {},
     "output_type": "execute_result"
    }
   ],
   "source": [
    "data.isnull().sum()"
   ]
  },
  {
   "cell_type": "code",
   "execution_count": 11,
   "id": "eb2336ef",
   "metadata": {},
   "outputs": [],
   "source": [
    "from sklearn.preprocessing import OneHotEncoder\n",
    "import numpy as np\n",
    "\n",
    "items=['vhigh.1', '2', '2.1', 'small', 'low', 'unacc']"
   ]
  },
  {
   "cell_type": "code",
   "execution_count": 13,
   "id": "a4dbf359",
   "metadata": {},
   "outputs": [
    {
     "data": {
      "text/html": [
       "<div>\n",
       "<style scoped>\n",
       "    .dataframe tbody tr th:only-of-type {\n",
       "        vertical-align: middle;\n",
       "    }\n",
       "\n",
       "    .dataframe tbody tr th {\n",
       "        vertical-align: top;\n",
       "    }\n",
       "\n",
       "    .dataframe thead th {\n",
       "        text-align: right;\n",
       "    }\n",
       "</style>\n",
       "<table border=\"1\" class=\"dataframe\">\n",
       "  <thead>\n",
       "    <tr style=\"text-align: right;\">\n",
       "      <th></th>\n",
       "      <th>vhigh.1</th>\n",
       "      <th>2</th>\n",
       "      <th>2.1</th>\n",
       "      <th>small</th>\n",
       "      <th>low</th>\n",
       "      <th>unacc</th>\n",
       "    </tr>\n",
       "    <tr>\n",
       "      <th>vhigh</th>\n",
       "      <th></th>\n",
       "      <th></th>\n",
       "      <th></th>\n",
       "      <th></th>\n",
       "      <th></th>\n",
       "      <th></th>\n",
       "    </tr>\n",
       "  </thead>\n",
       "  <tbody>\n",
       "    <tr>\n",
       "      <th>vhigh</th>\n",
       "      <td>3</td>\n",
       "      <td>0</td>\n",
       "      <td>0</td>\n",
       "      <td>2</td>\n",
       "      <td>2</td>\n",
       "      <td>2</td>\n",
       "    </tr>\n",
       "    <tr>\n",
       "      <th>vhigh</th>\n",
       "      <td>3</td>\n",
       "      <td>0</td>\n",
       "      <td>0</td>\n",
       "      <td>2</td>\n",
       "      <td>0</td>\n",
       "      <td>2</td>\n",
       "    </tr>\n",
       "    <tr>\n",
       "      <th>vhigh</th>\n",
       "      <td>3</td>\n",
       "      <td>0</td>\n",
       "      <td>0</td>\n",
       "      <td>1</td>\n",
       "      <td>1</td>\n",
       "      <td>2</td>\n",
       "    </tr>\n",
       "    <tr>\n",
       "      <th>vhigh</th>\n",
       "      <td>3</td>\n",
       "      <td>0</td>\n",
       "      <td>0</td>\n",
       "      <td>1</td>\n",
       "      <td>2</td>\n",
       "      <td>2</td>\n",
       "    </tr>\n",
       "    <tr>\n",
       "      <th>vhigh</th>\n",
       "      <td>3</td>\n",
       "      <td>0</td>\n",
       "      <td>0</td>\n",
       "      <td>1</td>\n",
       "      <td>0</td>\n",
       "      <td>2</td>\n",
       "    </tr>\n",
       "  </tbody>\n",
       "</table>\n",
       "</div>"
      ],
      "text/plain": [
       "       vhigh.1  2  2.1  small  low  unacc\n",
       "vhigh                                    \n",
       "vhigh        3  0    0      2    2      2\n",
       "vhigh        3  0    0      2    0      2\n",
       "vhigh        3  0    0      1    1      2\n",
       "vhigh        3  0    0      1    2      2\n",
       "vhigh        3  0    0      1    0      2"
      ]
     },
     "execution_count": 13,
     "metadata": {},
     "output_type": "execute_result"
    }
   ],
   "source": [
    "from sklearn.preprocessing import LabelEncoder\n",
    "\n",
    "le=LabelEncoder()\n",
    "data['vhigh.1']=le.fit_transform(data['vhigh.1'])\n",
    "data['2']=le.fit_transform(data['2'])\n",
    "data['2.1']=le.fit_transform(data['2.1'])\n",
    "data['small']=le.fit_transform(data['small'])\n",
    "data['low']=le.fit_transform(data['low'])\n",
    "data['unacc']=le.fit_transform(data['unacc'])\n",
    "data.head()"
   ]
  },
  {
   "cell_type": "code",
   "execution_count": 14,
   "id": "35209bd2",
   "metadata": {},
   "outputs": [],
   "source": [
    "encoder = LabelEncoder()\n",
    "encoder.fit(items)\n",
    "labels=encoder.transform(items)"
   ]
  },
  {
   "cell_type": "code",
   "execution_count": 3,
   "id": "a458b30b",
   "metadata": {},
   "outputs": [],
   "source": [
    "X = data.drop('unacc',axis=1)\n",
    "y = data['unacc']"
   ]
  },
  {
   "cell_type": "code",
   "execution_count": 16,
   "id": "201a10cb",
   "metadata": {
    "scrolled": true
   },
   "outputs": [
    {
     "data": {
      "text/plain": [
       "array([[5],\n",
       "       [0],\n",
       "       [1],\n",
       "       [3],\n",
       "       [2],\n",
       "       [4]])"
      ]
     },
     "execution_count": 16,
     "metadata": {},
     "output_type": "execute_result"
    }
   ],
   "source": [
    "labels=labels.reshape(-1,1)\n",
    "labels"
   ]
  },
  {
   "cell_type": "code",
   "execution_count": 17,
   "id": "50a2f17c",
   "metadata": {},
   "outputs": [],
   "source": [
    "oh_encoder = OneHotEncoder()"
   ]
  },
  {
   "cell_type": "code",
   "execution_count": 18,
   "id": "901f225e",
   "metadata": {},
   "outputs": [
    {
     "data": {
      "text/plain": [
       "array([[0., 0., 0., 0., 0., 1.],\n",
       "       [1., 0., 0., 0., 0., 0.],\n",
       "       [0., 1., 0., 0., 0., 0.],\n",
       "       [0., 0., 0., 1., 0., 0.],\n",
       "       [0., 0., 1., 0., 0., 0.],\n",
       "       [0., 0., 0., 0., 1., 0.]])"
      ]
     },
     "execution_count": 18,
     "metadata": {},
     "output_type": "execute_result"
    }
   ],
   "source": [
    "oh_encoder.fit(labels)\n",
    "oh_labels = oh_encoder.transform(labels)\n",
    "oh_labels.toarray()"
   ]
  },
  {
   "cell_type": "code",
   "execution_count": 19,
   "id": "2db7c5f7",
   "metadata": {},
   "outputs": [
    {
     "data": {
      "text/plain": [
       "(6, 6)"
      ]
     },
     "execution_count": 19,
     "metadata": {},
     "output_type": "execute_result"
    }
   ],
   "source": [
    "oh_labels.shape"
   ]
  },
  {
   "cell_type": "code",
   "execution_count": 20,
   "id": "9c2440e2",
   "metadata": {},
   "outputs": [],
   "source": [
    "from sklearn import datasets, metrics\n",
    "from sklearn.model_selection import train_test_split\n",
    "\n",
    "y = data.unacc.values\n",
    "X = data.drop('unacc', axis=1)\n",
    "\n",
    "X_train, X_test, y_train, y_test = train_test_split(X, y, test_size=0.2)"
   ]
  },
  {
   "cell_type": "code",
   "execution_count": 21,
   "id": "84748586",
   "metadata": {},
   "outputs": [
    {
     "name": "stdout",
     "output_type": "stream",
     "text": [
      "X train : (1381, 5)\n",
      "y train : (1381,)\n",
      "X test : (346, 5)\n",
      "y test : (346,)\n"
     ]
    }
   ],
   "source": [
    "print(\"X train :\", X_train.shape)\n",
    "print(\"y train :\", y_train.shape)\n",
    "print(\"X test :\", X_test.shape)\n",
    "print(\"y test :\", y_test.shape)"
   ]
  },
  {
   "cell_type": "code",
   "execution_count": 22,
   "id": "e8521548",
   "metadata": {},
   "outputs": [],
   "source": [
    "from sklearn.linear_model import LogisticRegression\n",
    "from sklearn.svm import SVC\n",
    "from sklearn.neural_network import MLPClassifier\n",
    "from sklearn.tree import DecisionTreeClassifier\n",
    "from sklearn.metrics import accuracy_score\n",
    "from sklearn.metrics import confusion_matrix"
   ]
  },
  {
   "cell_type": "code",
   "execution_count": 23,
   "id": "a9cc92e3",
   "metadata": {},
   "outputs": [],
   "source": [
    "from sklearn.preprocessing import LabelEncoder\n",
    "encoder =  LabelEncoder()\n",
    "y1 = encoder.fit_transform(y)\n",
    "\n",
    "Y = pd.get_dummies(y1).values"
   ]
  },
  {
   "cell_type": "code",
   "execution_count": 26,
   "id": "b78d32ed",
   "metadata": {},
   "outputs": [
    {
     "name": "stdout",
     "output_type": "stream",
     "text": [
      "Model: \"sequential_3\"\n",
      "_________________________________________________________________\n",
      " Layer (type)                Output Shape              Param #   \n",
      "=================================================================\n",
      " dense_12 (Dense)            (None, 32)                192       \n",
      "                                                                 \n",
      " dense_13 (Dense)            (None, 16)                528       \n",
      "                                                                 \n",
      " dense_14 (Dense)            (None, 16)                272       \n",
      "                                                                 \n",
      " dense_15 (Dense)            (None, 1)                 17        \n",
      "                                                                 \n",
      "=================================================================\n",
      "Total params: 1,009\n",
      "Trainable params: 1,009\n",
      "Non-trainable params: 0\n",
      "_________________________________________________________________\n"
     ]
    },
    {
     "name": "stderr",
     "output_type": "stream",
     "text": [
      "C:\\anaconda_new\\lib\\site-packages\\keras\\optimizers\\legacy\\adam.py:117: UserWarning: The `lr` argument is deprecated, use `learning_rate` instead.\n",
      "  super().__init__(name, **kwargs)\n"
     ]
    }
   ],
   "source": [
    "from keras.models import Sequential\n",
    "from keras.layers import Dense\n",
    "from keras.optimizers import SGD,Adam\n",
    "\n",
    "\n",
    "model = Sequential()\n",
    "\n",
    "model.add(Dense(32,input_shape=(5,),activation='sigmoid'))\n",
    "model.add(Dense(16,activation='sigmoid'))\n",
    "model.add(Dense(16,activation='sigmoid'))\n",
    "model.add(Dense(1,activation='softmax'))\n",
    "\n",
    "model.compile(Adam(lr=0.04),'categorical_crossentropy',metrics=['accuracy'])\n",
    "\n",
    "model.summary()"
   ]
  },
  {
   "cell_type": "code",
   "execution_count": 27,
   "id": "484634d6",
   "metadata": {},
   "outputs": [
    {
     "name": "stdout",
     "output_type": "stream",
     "text": [
      "Epoch 1/100\n"
     ]
    },
    {
     "name": "stderr",
     "output_type": "stream",
     "text": [
      "C:\\anaconda_new\\lib\\site-packages\\tensorflow\\python\\util\\dispatch.py:1176: SyntaxWarning: In loss categorical_crossentropy, expected y_pred.shape to be (batch_size, num_classes) with num_classes > 1. Received: y_pred.shape=(None, 1). Consider using 'binary_crossentropy' if you only have 2 classes.\n",
      "  return dispatch_target(*args, **kwargs)\n"
     ]
    },
    {
     "name": "stdout",
     "output_type": "stream",
     "text": [
      "87/87 [==============================] - 1s 4ms/step - loss: 0.0000e+00 - accuracy: 0.0406 - val_loss: 0.0000e+00 - val_accuracy: 0.0376\n",
      "Epoch 2/100\n",
      "42/87 [=============>................] - ETA: 0s - loss: 0.0000e+00 - accuracy: 0.0327    "
     ]
    },
    {
     "name": "stderr",
     "output_type": "stream",
     "text": [
      "C:\\anaconda_new\\lib\\site-packages\\tensorflow\\python\\util\\dispatch.py:1176: SyntaxWarning: In loss categorical_crossentropy, expected y_pred.shape to be (batch_size, num_classes) with num_classes > 1. Received: y_pred.shape=(None, 1). Consider using 'binary_crossentropy' if you only have 2 classes.\n",
      "  return dispatch_target(*args, **kwargs)\n"
     ]
    },
    {
     "name": "stdout",
     "output_type": "stream",
     "text": [
      "87/87 [==============================] - 0s 2ms/step - loss: 0.0000e+00 - accuracy: 0.0406 - val_loss: 0.0000e+00 - val_accuracy: 0.0376\n",
      "Epoch 3/100\n",
      "87/87 [==============================] - 0s 2ms/step - loss: 0.0000e+00 - accuracy: 0.0406 - val_loss: 0.0000e+00 - val_accuracy: 0.0376\n",
      "Epoch 4/100\n",
      "87/87 [==============================] - 0s 2ms/step - loss: 0.0000e+00 - accuracy: 0.0406 - val_loss: 0.0000e+00 - val_accuracy: 0.0376\n",
      "Epoch 5/100\n",
      "87/87 [==============================] - 0s 2ms/step - loss: 0.0000e+00 - accuracy: 0.0406 - val_loss: 0.0000e+00 - val_accuracy: 0.0376\n",
      "Epoch 6/100\n",
      "87/87 [==============================] - 0s 2ms/step - loss: 0.0000e+00 - accuracy: 0.0406 - val_loss: 0.0000e+00 - val_accuracy: 0.0376\n",
      "Epoch 7/100\n",
      "87/87 [==============================] - 0s 2ms/step - loss: 0.0000e+00 - accuracy: 0.0406 - val_loss: 0.0000e+00 - val_accuracy: 0.0376\n",
      "Epoch 8/100\n",
      "87/87 [==============================] - 0s 1ms/step - loss: 0.0000e+00 - accuracy: 0.0406 - val_loss: 0.0000e+00 - val_accuracy: 0.0376\n",
      "Epoch 9/100\n",
      "87/87 [==============================] - 0s 1ms/step - loss: 0.0000e+00 - accuracy: 0.0406 - val_loss: 0.0000e+00 - val_accuracy: 0.0376\n",
      "Epoch 10/100\n",
      "87/87 [==============================] - 0s 1ms/step - loss: 0.0000e+00 - accuracy: 0.0406 - val_loss: 0.0000e+00 - val_accuracy: 0.0376\n",
      "Epoch 11/100\n",
      "87/87 [==============================] - 0s 1ms/step - loss: 0.0000e+00 - accuracy: 0.0406 - val_loss: 0.0000e+00 - val_accuracy: 0.0376\n",
      "Epoch 12/100\n",
      "87/87 [==============================] - 0s 1ms/step - loss: 0.0000e+00 - accuracy: 0.0406 - val_loss: 0.0000e+00 - val_accuracy: 0.0376\n",
      "Epoch 13/100\n",
      "87/87 [==============================] - 0s 2ms/step - loss: 0.0000e+00 - accuracy: 0.0406 - val_loss: 0.0000e+00 - val_accuracy: 0.0376\n",
      "Epoch 14/100\n",
      "87/87 [==============================] - 0s 1ms/step - loss: 0.0000e+00 - accuracy: 0.0406 - val_loss: 0.0000e+00 - val_accuracy: 0.0376\n",
      "Epoch 15/100\n",
      "87/87 [==============================] - 0s 2ms/step - loss: 0.0000e+00 - accuracy: 0.0406 - val_loss: 0.0000e+00 - val_accuracy: 0.0376\n",
      "Epoch 16/100\n",
      "87/87 [==============================] - 0s 1ms/step - loss: 0.0000e+00 - accuracy: 0.0406 - val_loss: 0.0000e+00 - val_accuracy: 0.0376\n",
      "Epoch 17/100\n",
      "87/87 [==============================] - 0s 1ms/step - loss: 0.0000e+00 - accuracy: 0.0406 - val_loss: 0.0000e+00 - val_accuracy: 0.0376\n",
      "Epoch 18/100\n",
      "87/87 [==============================] - 0s 2ms/step - loss: 0.0000e+00 - accuracy: 0.0406 - val_loss: 0.0000e+00 - val_accuracy: 0.0376\n",
      "Epoch 19/100\n",
      "87/87 [==============================] - 0s 1ms/step - loss: 0.0000e+00 - accuracy: 0.0406 - val_loss: 0.0000e+00 - val_accuracy: 0.0376\n",
      "Epoch 20/100\n",
      "87/87 [==============================] - 0s 2ms/step - loss: 0.0000e+00 - accuracy: 0.0406 - val_loss: 0.0000e+00 - val_accuracy: 0.0376\n",
      "Epoch 21/100\n",
      "87/87 [==============================] - 0s 1ms/step - loss: 0.0000e+00 - accuracy: 0.0406 - val_loss: 0.0000e+00 - val_accuracy: 0.0376\n",
      "Epoch 22/100\n",
      "87/87 [==============================] - 0s 2ms/step - loss: 0.0000e+00 - accuracy: 0.0406 - val_loss: 0.0000e+00 - val_accuracy: 0.0376\n",
      "Epoch 23/100\n",
      "87/87 [==============================] - 0s 1ms/step - loss: 0.0000e+00 - accuracy: 0.0406 - val_loss: 0.0000e+00 - val_accuracy: 0.0376\n",
      "Epoch 24/100\n",
      "87/87 [==============================] - 0s 2ms/step - loss: 0.0000e+00 - accuracy: 0.0406 - val_loss: 0.0000e+00 - val_accuracy: 0.0376\n",
      "Epoch 25/100\n",
      "87/87 [==============================] - 0s 2ms/step - loss: 0.0000e+00 - accuracy: 0.0406 - val_loss: 0.0000e+00 - val_accuracy: 0.0376\n",
      "Epoch 26/100\n",
      "87/87 [==============================] - 0s 2ms/step - loss: 0.0000e+00 - accuracy: 0.0406 - val_loss: 0.0000e+00 - val_accuracy: 0.0376\n",
      "Epoch 27/100\n",
      "87/87 [==============================] - 0s 2ms/step - loss: 0.0000e+00 - accuracy: 0.0406 - val_loss: 0.0000e+00 - val_accuracy: 0.0376\n",
      "Epoch 28/100\n",
      "87/87 [==============================] - 0s 2ms/step - loss: 0.0000e+00 - accuracy: 0.0406 - val_loss: 0.0000e+00 - val_accuracy: 0.0376\n",
      "Epoch 29/100\n",
      "87/87 [==============================] - 0s 2ms/step - loss: 0.0000e+00 - accuracy: 0.0406 - val_loss: 0.0000e+00 - val_accuracy: 0.0376\n",
      "Epoch 30/100\n",
      "87/87 [==============================] - 0s 2ms/step - loss: 0.0000e+00 - accuracy: 0.0406 - val_loss: 0.0000e+00 - val_accuracy: 0.0376\n",
      "Epoch 31/100\n",
      "87/87 [==============================] - 0s 2ms/step - loss: 0.0000e+00 - accuracy: 0.0406 - val_loss: 0.0000e+00 - val_accuracy: 0.0376\n",
      "Epoch 32/100\n",
      "87/87 [==============================] - 0s 1ms/step - loss: 0.0000e+00 - accuracy: 0.0406 - val_loss: 0.0000e+00 - val_accuracy: 0.0376\n",
      "Epoch 33/100\n",
      "87/87 [==============================] - 0s 2ms/step - loss: 0.0000e+00 - accuracy: 0.0406 - val_loss: 0.0000e+00 - val_accuracy: 0.0376\n",
      "Epoch 34/100\n",
      "87/87 [==============================] - 0s 2ms/step - loss: 0.0000e+00 - accuracy: 0.0406 - val_loss: 0.0000e+00 - val_accuracy: 0.0376\n",
      "Epoch 35/100\n",
      "87/87 [==============================] - 0s 2ms/step - loss: 0.0000e+00 - accuracy: 0.0406 - val_loss: 0.0000e+00 - val_accuracy: 0.0376\n",
      "Epoch 36/100\n",
      "87/87 [==============================] - 0s 2ms/step - loss: 0.0000e+00 - accuracy: 0.0406 - val_loss: 0.0000e+00 - val_accuracy: 0.0376\n",
      "Epoch 37/100\n",
      "87/87 [==============================] - 0s 2ms/step - loss: 0.0000e+00 - accuracy: 0.0406 - val_loss: 0.0000e+00 - val_accuracy: 0.0376\n",
      "Epoch 38/100\n",
      "87/87 [==============================] - 0s 1ms/step - loss: 0.0000e+00 - accuracy: 0.0406 - val_loss: 0.0000e+00 - val_accuracy: 0.0376\n",
      "Epoch 39/100\n",
      "87/87 [==============================] - 0s 2ms/step - loss: 0.0000e+00 - accuracy: 0.0406 - val_loss: 0.0000e+00 - val_accuracy: 0.0376\n",
      "Epoch 40/100\n",
      "87/87 [==============================] - 0s 1ms/step - loss: 0.0000e+00 - accuracy: 0.0406 - val_loss: 0.0000e+00 - val_accuracy: 0.0376\n",
      "Epoch 41/100\n",
      "87/87 [==============================] - 0s 1ms/step - loss: 0.0000e+00 - accuracy: 0.0406 - val_loss: 0.0000e+00 - val_accuracy: 0.0376\n",
      "Epoch 42/100\n",
      "87/87 [==============================] - 0s 1ms/step - loss: 0.0000e+00 - accuracy: 0.0406 - val_loss: 0.0000e+00 - val_accuracy: 0.0376\n",
      "Epoch 43/100\n",
      "87/87 [==============================] - 0s 2ms/step - loss: 0.0000e+00 - accuracy: 0.0406 - val_loss: 0.0000e+00 - val_accuracy: 0.0376\n",
      "Epoch 44/100\n",
      "87/87 [==============================] - 0s 2ms/step - loss: 0.0000e+00 - accuracy: 0.0406 - val_loss: 0.0000e+00 - val_accuracy: 0.0376\n",
      "Epoch 45/100\n",
      "87/87 [==============================] - 0s 2ms/step - loss: 0.0000e+00 - accuracy: 0.0406 - val_loss: 0.0000e+00 - val_accuracy: 0.0376\n",
      "Epoch 46/100\n",
      "87/87 [==============================] - 0s 2ms/step - loss: 0.0000e+00 - accuracy: 0.0406 - val_loss: 0.0000e+00 - val_accuracy: 0.0376\n",
      "Epoch 47/100\n",
      "87/87 [==============================] - 0s 1ms/step - loss: 0.0000e+00 - accuracy: 0.0406 - val_loss: 0.0000e+00 - val_accuracy: 0.0376\n",
      "Epoch 48/100\n",
      "87/87 [==============================] - 0s 2ms/step - loss: 0.0000e+00 - accuracy: 0.0406 - val_loss: 0.0000e+00 - val_accuracy: 0.0376\n",
      "Epoch 49/100\n",
      "87/87 [==============================] - 0s 2ms/step - loss: 0.0000e+00 - accuracy: 0.0406 - val_loss: 0.0000e+00 - val_accuracy: 0.0376\n",
      "Epoch 50/100\n",
      "87/87 [==============================] - 0s 2ms/step - loss: 0.0000e+00 - accuracy: 0.0406 - val_loss: 0.0000e+00 - val_accuracy: 0.0376\n",
      "Epoch 51/100\n",
      "87/87 [==============================] - 0s 2ms/step - loss: 0.0000e+00 - accuracy: 0.0406 - val_loss: 0.0000e+00 - val_accuracy: 0.0376\n",
      "Epoch 52/100\n",
      "87/87 [==============================] - 0s 2ms/step - loss: 0.0000e+00 - accuracy: 0.0406 - val_loss: 0.0000e+00 - val_accuracy: 0.0376\n",
      "Epoch 53/100\n",
      "87/87 [==============================] - 0s 1ms/step - loss: 0.0000e+00 - accuracy: 0.0406 - val_loss: 0.0000e+00 - val_accuracy: 0.0376\n",
      "Epoch 54/100\n",
      "87/87 [==============================] - 0s 2ms/step - loss: 0.0000e+00 - accuracy: 0.0406 - val_loss: 0.0000e+00 - val_accuracy: 0.0376\n",
      "Epoch 55/100\n",
      "87/87 [==============================] - 0s 2ms/step - loss: 0.0000e+00 - accuracy: 0.0406 - val_loss: 0.0000e+00 - val_accuracy: 0.0376\n",
      "Epoch 56/100\n",
      "87/87 [==============================] - 0s 2ms/step - loss: 0.0000e+00 - accuracy: 0.0406 - val_loss: 0.0000e+00 - val_accuracy: 0.0376\n"
     ]
    },
    {
     "name": "stdout",
     "output_type": "stream",
     "text": [
      "Epoch 57/100\n",
      "87/87 [==============================] - 0s 2ms/step - loss: 0.0000e+00 - accuracy: 0.0406 - val_loss: 0.0000e+00 - val_accuracy: 0.0376\n",
      "Epoch 58/100\n",
      "87/87 [==============================] - 0s 2ms/step - loss: 0.0000e+00 - accuracy: 0.0406 - val_loss: 0.0000e+00 - val_accuracy: 0.0376\n",
      "Epoch 59/100\n",
      "87/87 [==============================] - 0s 1ms/step - loss: 0.0000e+00 - accuracy: 0.0406 - val_loss: 0.0000e+00 - val_accuracy: 0.0376\n",
      "Epoch 60/100\n",
      "87/87 [==============================] - 0s 2ms/step - loss: 0.0000e+00 - accuracy: 0.0406 - val_loss: 0.0000e+00 - val_accuracy: 0.0376\n",
      "Epoch 61/100\n",
      "87/87 [==============================] - 0s 2ms/step - loss: 0.0000e+00 - accuracy: 0.0406 - val_loss: 0.0000e+00 - val_accuracy: 0.0376\n",
      "Epoch 62/100\n",
      "87/87 [==============================] - 0s 1ms/step - loss: 0.0000e+00 - accuracy: 0.0406 - val_loss: 0.0000e+00 - val_accuracy: 0.0376\n",
      "Epoch 63/100\n",
      "87/87 [==============================] - 0s 1ms/step - loss: 0.0000e+00 - accuracy: 0.0406 - val_loss: 0.0000e+00 - val_accuracy: 0.0376\n",
      "Epoch 64/100\n",
      "87/87 [==============================] - 0s 2ms/step - loss: 0.0000e+00 - accuracy: 0.0406 - val_loss: 0.0000e+00 - val_accuracy: 0.0376\n",
      "Epoch 65/100\n",
      "87/87 [==============================] - 0s 2ms/step - loss: 0.0000e+00 - accuracy: 0.0406 - val_loss: 0.0000e+00 - val_accuracy: 0.0376\n",
      "Epoch 66/100\n",
      "87/87 [==============================] - 0s 1ms/step - loss: 0.0000e+00 - accuracy: 0.0406 - val_loss: 0.0000e+00 - val_accuracy: 0.0376\n",
      "Epoch 67/100\n",
      "87/87 [==============================] - 0s 1ms/step - loss: 0.0000e+00 - accuracy: 0.0406 - val_loss: 0.0000e+00 - val_accuracy: 0.0376\n",
      "Epoch 68/100\n",
      "87/87 [==============================] - 0s 1ms/step - loss: 0.0000e+00 - accuracy: 0.0406 - val_loss: 0.0000e+00 - val_accuracy: 0.0376\n",
      "Epoch 69/100\n",
      "87/87 [==============================] - 0s 1ms/step - loss: 0.0000e+00 - accuracy: 0.0406 - val_loss: 0.0000e+00 - val_accuracy: 0.0376\n",
      "Epoch 70/100\n",
      "87/87 [==============================] - 0s 2ms/step - loss: 0.0000e+00 - accuracy: 0.0406 - val_loss: 0.0000e+00 - val_accuracy: 0.0376\n",
      "Epoch 71/100\n",
      "87/87 [==============================] - 0s 2ms/step - loss: 0.0000e+00 - accuracy: 0.0406 - val_loss: 0.0000e+00 - val_accuracy: 0.0376\n",
      "Epoch 72/100\n",
      "87/87 [==============================] - 0s 2ms/step - loss: 0.0000e+00 - accuracy: 0.0406 - val_loss: 0.0000e+00 - val_accuracy: 0.0376\n",
      "Epoch 73/100\n",
      "87/87 [==============================] - 0s 2ms/step - loss: 0.0000e+00 - accuracy: 0.0406 - val_loss: 0.0000e+00 - val_accuracy: 0.0376\n",
      "Epoch 74/100\n",
      "87/87 [==============================] - 0s 1ms/step - loss: 0.0000e+00 - accuracy: 0.0406 - val_loss: 0.0000e+00 - val_accuracy: 0.0376\n",
      "Epoch 75/100\n",
      "87/87 [==============================] - 0s 1ms/step - loss: 0.0000e+00 - accuracy: 0.0406 - val_loss: 0.0000e+00 - val_accuracy: 0.0376\n",
      "Epoch 76/100\n",
      "87/87 [==============================] - 0s 2ms/step - loss: 0.0000e+00 - accuracy: 0.0406 - val_loss: 0.0000e+00 - val_accuracy: 0.0376\n",
      "Epoch 77/100\n",
      "87/87 [==============================] - 0s 1ms/step - loss: 0.0000e+00 - accuracy: 0.0406 - val_loss: 0.0000e+00 - val_accuracy: 0.0376\n",
      "Epoch 78/100\n",
      "87/87 [==============================] - 0s 1ms/step - loss: 0.0000e+00 - accuracy: 0.0406 - val_loss: 0.0000e+00 - val_accuracy: 0.0376\n",
      "Epoch 79/100\n",
      "87/87 [==============================] - 0s 1ms/step - loss: 0.0000e+00 - accuracy: 0.0406 - val_loss: 0.0000e+00 - val_accuracy: 0.0376\n",
      "Epoch 80/100\n",
      "87/87 [==============================] - 0s 2ms/step - loss: 0.0000e+00 - accuracy: 0.0406 - val_loss: 0.0000e+00 - val_accuracy: 0.0376\n",
      "Epoch 81/100\n",
      "87/87 [==============================] - 0s 2ms/step - loss: 0.0000e+00 - accuracy: 0.0406 - val_loss: 0.0000e+00 - val_accuracy: 0.0376\n",
      "Epoch 82/100\n",
      "87/87 [==============================] - 0s 2ms/step - loss: 0.0000e+00 - accuracy: 0.0406 - val_loss: 0.0000e+00 - val_accuracy: 0.0376\n",
      "Epoch 83/100\n",
      "87/87 [==============================] - 0s 2ms/step - loss: 0.0000e+00 - accuracy: 0.0406 - val_loss: 0.0000e+00 - val_accuracy: 0.0376\n",
      "Epoch 84/100\n",
      "87/87 [==============================] - 0s 1ms/step - loss: 0.0000e+00 - accuracy: 0.0406 - val_loss: 0.0000e+00 - val_accuracy: 0.0376\n",
      "Epoch 85/100\n",
      "87/87 [==============================] - 0s 2ms/step - loss: 0.0000e+00 - accuracy: 0.0406 - val_loss: 0.0000e+00 - val_accuracy: 0.0376\n",
      "Epoch 86/100\n",
      "87/87 [==============================] - 0s 2ms/step - loss: 0.0000e+00 - accuracy: 0.0406 - val_loss: 0.0000e+00 - val_accuracy: 0.0376\n",
      "Epoch 87/100\n",
      "87/87 [==============================] - 0s 1ms/step - loss: 0.0000e+00 - accuracy: 0.0406 - val_loss: 0.0000e+00 - val_accuracy: 0.0376\n",
      "Epoch 88/100\n",
      "87/87 [==============================] - 0s 2ms/step - loss: 0.0000e+00 - accuracy: 0.0406 - val_loss: 0.0000e+00 - val_accuracy: 0.0376\n",
      "Epoch 89/100\n",
      "87/87 [==============================] - 0s 2ms/step - loss: 0.0000e+00 - accuracy: 0.0406 - val_loss: 0.0000e+00 - val_accuracy: 0.0376\n",
      "Epoch 90/100\n",
      "87/87 [==============================] - 0s 2ms/step - loss: 0.0000e+00 - accuracy: 0.0406 - val_loss: 0.0000e+00 - val_accuracy: 0.0376\n",
      "Epoch 91/100\n",
      "87/87 [==============================] - 0s 2ms/step - loss: 0.0000e+00 - accuracy: 0.0406 - val_loss: 0.0000e+00 - val_accuracy: 0.0376\n",
      "Epoch 92/100\n",
      "87/87 [==============================] - 0s 2ms/step - loss: 0.0000e+00 - accuracy: 0.0406 - val_loss: 0.0000e+00 - val_accuracy: 0.0376\n",
      "Epoch 93/100\n",
      "87/87 [==============================] - 0s 2ms/step - loss: 0.0000e+00 - accuracy: 0.0406 - val_loss: 0.0000e+00 - val_accuracy: 0.0376\n",
      "Epoch 94/100\n",
      "87/87 [==============================] - 0s 2ms/step - loss: 0.0000e+00 - accuracy: 0.0406 - val_loss: 0.0000e+00 - val_accuracy: 0.0376\n",
      "Epoch 95/100\n",
      "87/87 [==============================] - 0s 2ms/step - loss: 0.0000e+00 - accuracy: 0.0406 - val_loss: 0.0000e+00 - val_accuracy: 0.0376\n",
      "Epoch 96/100\n",
      "87/87 [==============================] - 0s 2ms/step - loss: 0.0000e+00 - accuracy: 0.0406 - val_loss: 0.0000e+00 - val_accuracy: 0.0376\n",
      "Epoch 97/100\n",
      "87/87 [==============================] - 0s 2ms/step - loss: 0.0000e+00 - accuracy: 0.0406 - val_loss: 0.0000e+00 - val_accuracy: 0.0376\n",
      "Epoch 98/100\n",
      "87/87 [==============================] - 0s 2ms/step - loss: 0.0000e+00 - accuracy: 0.0406 - val_loss: 0.0000e+00 - val_accuracy: 0.0376\n",
      "Epoch 99/100\n",
      "87/87 [==============================] - 0s 1ms/step - loss: 0.0000e+00 - accuracy: 0.0406 - val_loss: 0.0000e+00 - val_accuracy: 0.0376\n",
      "Epoch 100/100\n",
      "87/87 [==============================] - 0s 1ms/step - loss: 0.0000e+00 - accuracy: 0.0406 - val_loss: 0.0000e+00 - val_accuracy: 0.0376\n",
      "11/11 [==============================] - 0s 1ms/step\n"
     ]
    }
   ],
   "source": [
    "model_history=model.fit(x=X_train, y=y_train, epochs=100, batch_size=16, validation_data= (X_test,y_test))\n",
    "y_pred = model.predict(X_test)\n",
    "\n",
    "y_test_class = np.argmax(y_test,axis=0)\n",
    "y_pred_class = np.argmax(y_pred,axis=1)"
   ]
  },
  {
   "cell_type": "code",
   "execution_count": 28,
   "id": "2367a82f",
   "metadata": {},
   "outputs": [
    {
     "name": "stdout",
     "output_type": "stream",
     "text": [
      "11/11 [==============================] - 0s 2ms/step - loss: 0.0000e+00 - accuracy: 0.0376\n"
     ]
    }
   ],
   "source": [
    "model.fit(X_train, y_train, epochs=80, batch_size=16, verbose=0)\n",
    "test_mse_score, test_mae_score = model.evaluate(X_test, y_test)"
   ]
  },
  {
   "cell_type": "code",
   "execution_count": 29,
   "id": "21364845",
   "metadata": {},
   "outputs": [
    {
     "name": "stdout",
     "output_type": "stream",
     "text": [
      "0.0\n",
      "0.03757225349545479\n"
     ]
    }
   ],
   "source": [
    "print(test_mse_score)\n",
    "print(test_mae_score)"
   ]
  },
  {
   "cell_type": "code",
   "execution_count": null,
   "id": "06e4c50f",
   "metadata": {},
   "outputs": [],
   "source": []
  }
 ],
 "metadata": {
  "kernelspec": {
   "display_name": "Python 3 (ipykernel)",
   "language": "python",
   "name": "python3"
  },
  "language_info": {
   "codemirror_mode": {
    "name": "ipython",
    "version": 3
   },
   "file_extension": ".py",
   "mimetype": "text/x-python",
   "name": "python",
   "nbconvert_exporter": "python",
   "pygments_lexer": "ipython3",
   "version": "3.9.13"
  }
 },
 "nbformat": 4,
 "nbformat_minor": 5
}
