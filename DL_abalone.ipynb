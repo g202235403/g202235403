{
 "cells": [
  {
   "cell_type": "code",
   "execution_count": 42,
   "id": "b8dc87dd",
   "metadata": {},
   "outputs": [
    {
     "data": {
      "text/html": [
       "<div>\n",
       "<style scoped>\n",
       "    .dataframe tbody tr th:only-of-type {\n",
       "        vertical-align: middle;\n",
       "    }\n",
       "\n",
       "    .dataframe tbody tr th {\n",
       "        vertical-align: top;\n",
       "    }\n",
       "\n",
       "    .dataframe thead th {\n",
       "        text-align: right;\n",
       "    }\n",
       "</style>\n",
       "<table border=\"1\" class=\"dataframe\">\n",
       "  <thead>\n",
       "    <tr style=\"text-align: right;\">\n",
       "      <th></th>\n",
       "      <th>0</th>\n",
       "      <th>1</th>\n",
       "      <th>2</th>\n",
       "      <th>3</th>\n",
       "      <th>4</th>\n",
       "      <th>5</th>\n",
       "      <th>6</th>\n",
       "      <th>7</th>\n",
       "      <th>8</th>\n",
       "    </tr>\n",
       "  </thead>\n",
       "  <tbody>\n",
       "    <tr>\n",
       "      <th>0</th>\n",
       "      <td>M</td>\n",
       "      <td>0.455</td>\n",
       "      <td>0.365</td>\n",
       "      <td>0.095</td>\n",
       "      <td>0.5140</td>\n",
       "      <td>0.2245</td>\n",
       "      <td>0.1010</td>\n",
       "      <td>0.150</td>\n",
       "      <td>15</td>\n",
       "    </tr>\n",
       "    <tr>\n",
       "      <th>1</th>\n",
       "      <td>M</td>\n",
       "      <td>0.350</td>\n",
       "      <td>0.265</td>\n",
       "      <td>0.090</td>\n",
       "      <td>0.2255</td>\n",
       "      <td>0.0995</td>\n",
       "      <td>0.0485</td>\n",
       "      <td>0.070</td>\n",
       "      <td>7</td>\n",
       "    </tr>\n",
       "    <tr>\n",
       "      <th>2</th>\n",
       "      <td>F</td>\n",
       "      <td>0.530</td>\n",
       "      <td>0.420</td>\n",
       "      <td>0.135</td>\n",
       "      <td>0.6770</td>\n",
       "      <td>0.2565</td>\n",
       "      <td>0.1415</td>\n",
       "      <td>0.210</td>\n",
       "      <td>9</td>\n",
       "    </tr>\n",
       "    <tr>\n",
       "      <th>3</th>\n",
       "      <td>M</td>\n",
       "      <td>0.440</td>\n",
       "      <td>0.365</td>\n",
       "      <td>0.125</td>\n",
       "      <td>0.5160</td>\n",
       "      <td>0.2155</td>\n",
       "      <td>0.1140</td>\n",
       "      <td>0.155</td>\n",
       "      <td>10</td>\n",
       "    </tr>\n",
       "    <tr>\n",
       "      <th>4</th>\n",
       "      <td>I</td>\n",
       "      <td>0.330</td>\n",
       "      <td>0.255</td>\n",
       "      <td>0.080</td>\n",
       "      <td>0.2050</td>\n",
       "      <td>0.0895</td>\n",
       "      <td>0.0395</td>\n",
       "      <td>0.055</td>\n",
       "      <td>7</td>\n",
       "    </tr>\n",
       "  </tbody>\n",
       "</table>\n",
       "</div>"
      ],
      "text/plain": [
       "   0      1      2      3       4       5       6      7   8\n",
       "0  M  0.455  0.365  0.095  0.5140  0.2245  0.1010  0.150  15\n",
       "1  M  0.350  0.265  0.090  0.2255  0.0995  0.0485  0.070   7\n",
       "2  F  0.530  0.420  0.135  0.6770  0.2565  0.1415  0.210   9\n",
       "3  M  0.440  0.365  0.125  0.5160  0.2155  0.1140  0.155  10\n",
       "4  I  0.330  0.255  0.080  0.2050  0.0895  0.0395  0.055   7"
      ]
     },
     "execution_count": 42,
     "metadata": {},
     "output_type": "execute_result"
    }
   ],
   "source": [
    "import numpy as np\n",
    "import pandas as pd\n",
    "import seaborn as sns\n",
    "import matplotlib.pyplot as plt\n",
    "\n",
    "data = pd.read_csv(\"C:/Users/민지/Downloads/abalone.data\", index_col = None, header = None)\n",
    "data.head()"
   ]
  },
  {
   "cell_type": "code",
   "execution_count": 43,
   "id": "ef78509a",
   "metadata": {
    "scrolled": true
   },
   "outputs": [
    {
     "data": {
      "text/plain": [
       "0    0\n",
       "1    0\n",
       "2    0\n",
       "3    0\n",
       "4    0\n",
       "5    0\n",
       "6    0\n",
       "7    0\n",
       "8    0\n",
       "dtype: int64"
      ]
     },
     "execution_count": 43,
     "metadata": {},
     "output_type": "execute_result"
    }
   ],
   "source": [
    "data.isnull().sum()"
   ]
  },
  {
   "cell_type": "code",
   "execution_count": 49,
   "id": "7d28d02f",
   "metadata": {},
   "outputs": [],
   "source": [
    "from sklearn.preprocessing import LabelEncoder\n",
    "\n",
    "le = LabelEncoder()\n",
    "for i in data.columns:\n",
    "    data[i] = le.fit_transform(data[i])"
   ]
  },
  {
   "cell_type": "code",
   "execution_count": 50,
   "id": "dc512813",
   "metadata": {},
   "outputs": [],
   "source": [
    "X = data.iloc[:,0:7].values\n",
    "y = data.iloc[:,7].values\n",
    "\n",
    "from sklearn.preprocessing import LabelEncoder\n",
    "encoder =  LabelEncoder()\n",
    "y1 = encoder.fit_transform(y)\n",
    "\n",
    "Y = pd.get_dummies(y1).values\n",
    "\n",
    "\n",
    "from sklearn.model_selection import train_test_split\n",
    "X_train,X_test, y_train,y_test = train_test_split(X,Y,test_size=0.2,random_state=0) "
   ]
  },
  {
   "cell_type": "code",
   "execution_count": 51,
   "id": "a8db1bd0",
   "metadata": {},
   "outputs": [
    {
     "name": "stdout",
     "output_type": "stream",
     "text": [
      "Model: \"sequential_7\"\n",
      "_________________________________________________________________\n",
      " Layer (type)                Output Shape              Param #   \n",
      "=================================================================\n",
      " dense_27 (Dense)            (None, 100)               800       \n",
      "                                                                 \n",
      " dense_28 (Dense)            (None, 50)                5050      \n",
      "                                                                 \n",
      " dense_29 (Dense)            (None, 30)                1530      \n",
      "                                                                 \n",
      " dense_30 (Dense)            (None, 1)                 31        \n",
      "                                                                 \n",
      "=================================================================\n",
      "Total params: 7,411\n",
      "Trainable params: 7,411\n",
      "Non-trainable params: 0\n",
      "_________________________________________________________________\n"
     ]
    }
   ],
   "source": [
    "from tensorflow.keras.models import Sequential\n",
    "from tensorflow.keras.layers import Dense\n",
    "\n",
    "model = Sequential()\n",
    "model.add(Dense(100, activation = 'elu', input_shape = (7,)))\n",
    "model.add(Dense(50, activation = 'elu'))\n",
    "model.add(Dense(30, activation = 'elu'))\n",
    "model.add(Dense(1)) \n",
    "model.compile(optimizer = 'rmsprop', loss = 'mse', metrics = ['mse'])\n",
    "\n",
    "model.summary()"
   ]
  },
  {
   "cell_type": "code",
   "execution_count": 52,
   "id": "9ace50b7",
   "metadata": {},
   "outputs": [
    {
     "name": "stdout",
     "output_type": "stream",
     "text": [
      "Epoch 1/100\n",
      "105/105 [==============================] - 1s 3ms/step - loss: 336.1710 - mse: 336.1710 - val_loss: 2.4837 - val_mse: 2.4837\n",
      "Epoch 2/100\n",
      "105/105 [==============================] - 0s 2ms/step - loss: 114.2075 - mse: 114.2075 - val_loss: 3.3297 - val_mse: 3.3297\n",
      "Epoch 3/100\n",
      "105/105 [==============================] - 0s 2ms/step - loss: 53.3622 - mse: 53.3622 - val_loss: 3.0847 - val_mse: 3.0847\n",
      "Epoch 4/100\n",
      "105/105 [==============================] - 0s 2ms/step - loss: 19.5846 - mse: 19.5846 - val_loss: 40.1459 - val_mse: 40.1459\n",
      "Epoch 5/100\n",
      "105/105 [==============================] - 0s 2ms/step - loss: 7.9338 - mse: 7.9338 - val_loss: 0.8081 - val_mse: 0.8081\n",
      "Epoch 6/100\n",
      "105/105 [==============================] - 0s 2ms/step - loss: 3.3820 - mse: 3.3820 - val_loss: 3.6761 - val_mse: 3.6761\n",
      "Epoch 7/100\n",
      "105/105 [==============================] - 0s 2ms/step - loss: 1.6363 - mse: 1.6363 - val_loss: 0.2001 - val_mse: 0.2001\n",
      "Epoch 8/100\n",
      "105/105 [==============================] - 0s 2ms/step - loss: 0.7991 - mse: 0.7991 - val_loss: 0.0939 - val_mse: 0.0939\n",
      "Epoch 9/100\n",
      "105/105 [==============================] - 0s 2ms/step - loss: 0.5105 - mse: 0.5105 - val_loss: 0.0969 - val_mse: 0.0969\n",
      "Epoch 10/100\n",
      "105/105 [==============================] - 0s 2ms/step - loss: 0.4608 - mse: 0.4608 - val_loss: 0.1329 - val_mse: 0.1329\n",
      "Epoch 11/100\n",
      "105/105 [==============================] - 0s 2ms/step - loss: 0.4877 - mse: 0.4877 - val_loss: 0.2672 - val_mse: 0.2672\n",
      "Epoch 12/100\n",
      "105/105 [==============================] - 0s 2ms/step - loss: 0.1622 - mse: 0.1622 - val_loss: 0.1855 - val_mse: 0.1855\n",
      "Epoch 13/100\n",
      "105/105 [==============================] - 0s 2ms/step - loss: 0.1206 - mse: 0.1206 - val_loss: 0.0068 - val_mse: 0.0068\n",
      "Epoch 14/100\n",
      "105/105 [==============================] - 0s 2ms/step - loss: 0.0189 - mse: 0.0189 - val_loss: 0.1931 - val_mse: 0.1931\n",
      "Epoch 15/100\n",
      "105/105 [==============================] - 0s 2ms/step - loss: 0.0426 - mse: 0.0426 - val_loss: 0.0610 - val_mse: 0.0610\n",
      "Epoch 16/100\n",
      "105/105 [==============================] - 0s 1ms/step - loss: 0.0129 - mse: 0.0129 - val_loss: 0.4890 - val_mse: 0.4890\n",
      "Epoch 17/100\n",
      "105/105 [==============================] - 0s 2ms/step - loss: 0.1315 - mse: 0.1315 - val_loss: 0.0499 - val_mse: 0.0499\n",
      "Epoch 18/100\n",
      "105/105 [==============================] - 0s 2ms/step - loss: 0.0162 - mse: 0.0162 - val_loss: 0.2183 - val_mse: 0.2183\n",
      "Epoch 19/100\n",
      "105/105 [==============================] - 0s 2ms/step - loss: 0.0438 - mse: 0.0438 - val_loss: 0.3985 - val_mse: 0.3985\n",
      "Epoch 20/100\n",
      "105/105 [==============================] - 0s 2ms/step - loss: 0.0541 - mse: 0.0541 - val_loss: 0.0241 - val_mse: 0.0241\n",
      "Epoch 21/100\n",
      "105/105 [==============================] - 0s 2ms/step - loss: 0.0112 - mse: 0.0112 - val_loss: 0.1273 - val_mse: 0.1273\n",
      "Epoch 22/100\n",
      "105/105 [==============================] - 0s 2ms/step - loss: 0.0187 - mse: 0.0187 - val_loss: 0.0367 - val_mse: 0.0367\n",
      "Epoch 23/100\n",
      "105/105 [==============================] - 0s 2ms/step - loss: 0.0176 - mse: 0.0176 - val_loss: 0.1423 - val_mse: 0.1423\n",
      "Epoch 24/100\n",
      "105/105 [==============================] - 0s 2ms/step - loss: 0.0240 - mse: 0.0240 - val_loss: 0.0124 - val_mse: 0.0124\n",
      "Epoch 25/100\n",
      "105/105 [==============================] - 0s 2ms/step - loss: 0.0154 - mse: 0.0154 - val_loss: 0.0634 - val_mse: 0.0634\n",
      "Epoch 26/100\n",
      "105/105 [==============================] - 0s 2ms/step - loss: 0.0159 - mse: 0.0159 - val_loss: 0.0096 - val_mse: 0.0096\n",
      "Epoch 27/100\n",
      "105/105 [==============================] - 0s 2ms/step - loss: 0.0067 - mse: 0.0067 - val_loss: 0.1049 - val_mse: 0.1049\n",
      "Epoch 28/100\n",
      "105/105 [==============================] - 0s 2ms/step - loss: 0.0163 - mse: 0.0163 - val_loss: 0.0054 - val_mse: 0.0054\n",
      "Epoch 29/100\n",
      "105/105 [==============================] - 0s 2ms/step - loss: 0.0357 - mse: 0.0357 - val_loss: 0.0114 - val_mse: 0.0114\n",
      "Epoch 30/100\n",
      "105/105 [==============================] - 0s 2ms/step - loss: 0.0075 - mse: 0.0075 - val_loss: 0.0683 - val_mse: 0.0683\n",
      "Epoch 31/100\n",
      "105/105 [==============================] - 0s 2ms/step - loss: 0.0197 - mse: 0.0197 - val_loss: 0.0160 - val_mse: 0.0160\n",
      "Epoch 32/100\n",
      "105/105 [==============================] - 0s 2ms/step - loss: 0.0065 - mse: 0.0065 - val_loss: 0.0379 - val_mse: 0.0379\n",
      "Epoch 33/100\n",
      "105/105 [==============================] - 0s 2ms/step - loss: 0.0104 - mse: 0.0104 - val_loss: 0.0076 - val_mse: 0.0076\n",
      "Epoch 34/100\n",
      "105/105 [==============================] - 0s 2ms/step - loss: 0.0050 - mse: 0.0050 - val_loss: 0.0062 - val_mse: 0.0062\n",
      "Epoch 35/100\n",
      "105/105 [==============================] - 0s 2ms/step - loss: 0.0050 - mse: 0.0050 - val_loss: 0.0256 - val_mse: 0.0256\n",
      "Epoch 36/100\n",
      "105/105 [==============================] - 0s 2ms/step - loss: 0.0082 - mse: 0.0082 - val_loss: 0.0076 - val_mse: 0.0076\n",
      "Epoch 37/100\n",
      "105/105 [==============================] - 0s 2ms/step - loss: 0.0046 - mse: 0.0046 - val_loss: 0.0056 - val_mse: 0.0056\n",
      "Epoch 38/100\n",
      "105/105 [==============================] - 0s 2ms/step - loss: 0.0049 - mse: 0.0049 - val_loss: 0.0388 - val_mse: 0.0388\n",
      "Epoch 39/100\n",
      "105/105 [==============================] - 0s 2ms/step - loss: 0.0154 - mse: 0.0154 - val_loss: 0.0032 - val_mse: 0.0032\n",
      "Epoch 40/100\n",
      "105/105 [==============================] - 0s 2ms/step - loss: 0.0044 - mse: 0.0044 - val_loss: 0.0169 - val_mse: 0.0169\n",
      "Epoch 41/100\n",
      "105/105 [==============================] - 0s 2ms/step - loss: 0.0056 - mse: 0.0056 - val_loss: 0.0146 - val_mse: 0.0146\n",
      "Epoch 42/100\n",
      "105/105 [==============================] - 0s 2ms/step - loss: 0.0091 - mse: 0.0091 - val_loss: 0.0072 - val_mse: 0.0072\n",
      "Epoch 43/100\n",
      "105/105 [==============================] - 0s 2ms/step - loss: 0.0042 - mse: 0.0042 - val_loss: 0.0135 - val_mse: 0.0135\n",
      "Epoch 44/100\n",
      "105/105 [==============================] - 0s 2ms/step - loss: 0.0059 - mse: 0.0059 - val_loss: 0.0147 - val_mse: 0.0147\n",
      "Epoch 45/100\n",
      "105/105 [==============================] - 0s 2ms/step - loss: 0.0051 - mse: 0.0051 - val_loss: 0.0110 - val_mse: 0.0110\n",
      "Epoch 46/100\n",
      "105/105 [==============================] - 0s 2ms/step - loss: 0.0050 - mse: 0.0050 - val_loss: 0.0172 - val_mse: 0.0172\n",
      "Epoch 47/100\n",
      "105/105 [==============================] - 0s 2ms/step - loss: 0.0052 - mse: 0.0052 - val_loss: 0.0090 - val_mse: 0.0090\n",
      "Epoch 48/100\n",
      "105/105 [==============================] - 0s 2ms/step - loss: 0.0045 - mse: 0.0045 - val_loss: 0.0158 - val_mse: 0.0158\n",
      "Epoch 49/100\n",
      "105/105 [==============================] - 0s 2ms/step - loss: 0.0038 - mse: 0.0038 - val_loss: 0.0081 - val_mse: 0.0081\n",
      "Epoch 50/100\n",
      "105/105 [==============================] - 0s 2ms/step - loss: 0.0042 - mse: 0.0042 - val_loss: 0.0105 - val_mse: 0.0105\n",
      "Epoch 51/100\n",
      "105/105 [==============================] - 0s 2ms/step - loss: 0.0041 - mse: 0.0041 - val_loss: 0.0067 - val_mse: 0.0067\n",
      "Epoch 52/100\n",
      "105/105 [==============================] - 0s 2ms/step - loss: 0.0037 - mse: 0.0037 - val_loss: 0.0076 - val_mse: 0.0076\n",
      "Epoch 53/100\n",
      "105/105 [==============================] - 0s 2ms/step - loss: 0.0034 - mse: 0.0034 - val_loss: 0.0097 - val_mse: 0.0097\n",
      "Epoch 54/100\n",
      "105/105 [==============================] - 0s 2ms/step - loss: 0.0046 - mse: 0.0046 - val_loss: 0.0017 - val_mse: 0.0017\n",
      "Epoch 55/100\n",
      "105/105 [==============================] - 0s 2ms/step - loss: 0.0030 - mse: 0.0030 - val_loss: 0.0031 - val_mse: 0.0031\n",
      "Epoch 56/100\n",
      "105/105 [==============================] - 0s 2ms/step - loss: 0.0031 - mse: 0.0031 - val_loss: 0.0332 - val_mse: 0.0332\n",
      "Epoch 57/100\n",
      "105/105 [==============================] - 0s 2ms/step - loss: 0.0069 - mse: 0.0069 - val_loss: 0.0040 - val_mse: 0.0040\n",
      "Epoch 58/100\n",
      "105/105 [==============================] - 0s 2ms/step - loss: 0.0031 - mse: 0.0031 - val_loss: 0.0054 - val_mse: 0.0054\n",
      "Epoch 59/100\n",
      "105/105 [==============================] - 0s 2ms/step - loss: 0.0029 - mse: 0.0029 - val_loss: 0.0082 - val_mse: 0.0082\n",
      "Epoch 60/100\n",
      "105/105 [==============================] - 0s 2ms/step - loss: 0.0034 - mse: 0.0034 - val_loss: 0.0052 - val_mse: 0.0052\n",
      "Epoch 61/100\n",
      "105/105 [==============================] - 0s 2ms/step - loss: 0.0029 - mse: 0.0029 - val_loss: 0.0039 - val_mse: 0.0039\n",
      "Epoch 62/100\n"
     ]
    },
    {
     "name": "stdout",
     "output_type": "stream",
     "text": [
      "105/105 [==============================] - 0s 2ms/step - loss: 0.0029 - mse: 0.0029 - val_loss: 0.0033 - val_mse: 0.0033\n",
      "Epoch 63/100\n",
      "105/105 [==============================] - 0s 2ms/step - loss: 0.0027 - mse: 0.0027 - val_loss: 0.0029 - val_mse: 0.0029\n",
      "Epoch 64/100\n",
      "105/105 [==============================] - 0s 2ms/step - loss: 0.0028 - mse: 0.0028 - val_loss: 0.0029 - val_mse: 0.0029\n",
      "Epoch 65/100\n",
      "105/105 [==============================] - 0s 2ms/step - loss: 0.0026 - mse: 0.0026 - val_loss: 0.0027 - val_mse: 0.0027\n",
      "Epoch 66/100\n",
      "105/105 [==============================] - 0s 2ms/step - loss: 0.0026 - mse: 0.0026 - val_loss: 0.0047 - val_mse: 0.0047\n",
      "Epoch 67/100\n",
      "105/105 [==============================] - 0s 2ms/step - loss: 0.0028 - mse: 0.0028 - val_loss: 0.0026 - val_mse: 0.0026\n",
      "Epoch 68/100\n",
      "105/105 [==============================] - 0s 2ms/step - loss: 0.0026 - mse: 0.0026 - val_loss: 0.0033 - val_mse: 0.0033\n",
      "Epoch 69/100\n",
      "105/105 [==============================] - 0s 2ms/step - loss: 0.0026 - mse: 0.0026 - val_loss: 0.0027 - val_mse: 0.0027\n",
      "Epoch 70/100\n",
      "105/105 [==============================] - 0s 2ms/step - loss: 0.0025 - mse: 0.0025 - val_loss: 0.0028 - val_mse: 0.0028\n",
      "Epoch 71/100\n",
      "105/105 [==============================] - 0s 2ms/step - loss: 0.0025 - mse: 0.0025 - val_loss: 0.0039 - val_mse: 0.0039\n",
      "Epoch 72/100\n",
      "105/105 [==============================] - 0s 2ms/step - loss: 0.0026 - mse: 0.0026 - val_loss: 0.0036 - val_mse: 0.0036\n",
      "Epoch 73/100\n",
      "105/105 [==============================] - 0s 2ms/step - loss: 0.0026 - mse: 0.0026 - val_loss: 0.0036 - val_mse: 0.0036\n",
      "Epoch 74/100\n",
      "105/105 [==============================] - 0s 2ms/step - loss: 0.0025 - mse: 0.0025 - val_loss: 0.0031 - val_mse: 0.0031\n",
      "Epoch 75/100\n",
      "105/105 [==============================] - 0s 2ms/step - loss: 0.0025 - mse: 0.0025 - val_loss: 0.0026 - val_mse: 0.0026\n",
      "Epoch 76/100\n",
      "105/105 [==============================] - 0s 2ms/step - loss: 0.0024 - mse: 0.0024 - val_loss: 0.0026 - val_mse: 0.0026\n",
      "Epoch 77/100\n",
      "105/105 [==============================] - 0s 2ms/step - loss: 0.0024 - mse: 0.0024 - val_loss: 0.0032 - val_mse: 0.0032\n",
      "Epoch 78/100\n",
      "105/105 [==============================] - 0s 2ms/step - loss: 0.0024 - mse: 0.0024 - val_loss: 0.0042 - val_mse: 0.0042\n",
      "Epoch 79/100\n",
      "105/105 [==============================] - 0s 2ms/step - loss: 0.0027 - mse: 0.0027 - val_loss: 0.0026 - val_mse: 0.0026\n",
      "Epoch 80/100\n",
      "105/105 [==============================] - 0s 2ms/step - loss: 0.0023 - mse: 0.0023 - val_loss: 0.0034 - val_mse: 0.0034\n",
      "Epoch 81/100\n",
      "105/105 [==============================] - 0s 2ms/step - loss: 0.0025 - mse: 0.0025 - val_loss: 0.0026 - val_mse: 0.0026\n",
      "Epoch 82/100\n",
      "105/105 [==============================] - 0s 2ms/step - loss: 0.0023 - mse: 0.0023 - val_loss: 0.0022 - val_mse: 0.0022\n",
      "Epoch 83/100\n",
      "105/105 [==============================] - 0s 2ms/step - loss: 0.0022 - mse: 0.0022 - val_loss: 0.0040 - val_mse: 0.0040\n",
      "Epoch 84/100\n",
      "105/105 [==============================] - 0s 2ms/step - loss: 0.0024 - mse: 0.0024 - val_loss: 0.0023 - val_mse: 0.0023\n",
      "Epoch 85/100\n",
      "105/105 [==============================] - 0s 2ms/step - loss: 0.0021 - mse: 0.0021 - val_loss: 0.0021 - val_mse: 0.0021\n",
      "Epoch 86/100\n",
      "105/105 [==============================] - 0s 2ms/step - loss: 0.0023 - mse: 0.0023 - val_loss: 0.0032 - val_mse: 0.0032\n",
      "Epoch 87/100\n",
      "105/105 [==============================] - 0s 2ms/step - loss: 0.0021 - mse: 0.0021 - val_loss: 0.0024 - val_mse: 0.0024\n",
      "Epoch 88/100\n",
      "105/105 [==============================] - 0s 2ms/step - loss: 0.0021 - mse: 0.0021 - val_loss: 0.0019 - val_mse: 0.0019\n",
      "Epoch 89/100\n",
      "105/105 [==============================] - 0s 2ms/step - loss: 0.0021 - mse: 0.0021 - val_loss: 0.0019 - val_mse: 0.0019\n",
      "Epoch 90/100\n",
      "105/105 [==============================] - 0s 2ms/step - loss: 0.0021 - mse: 0.0021 - val_loss: 0.0020 - val_mse: 0.0020\n",
      "Epoch 91/100\n",
      "105/105 [==============================] - 0s 2ms/step - loss: 0.0020 - mse: 0.0020 - val_loss: 0.0055 - val_mse: 0.0055\n",
      "Epoch 92/100\n",
      "105/105 [==============================] - 0s 2ms/step - loss: 0.0030 - mse: 0.0030 - val_loss: 0.0021 - val_mse: 0.0021\n",
      "Epoch 93/100\n",
      "105/105 [==============================] - 0s 1ms/step - loss: 0.0020 - mse: 0.0020 - val_loss: 0.0024 - val_mse: 0.0024\n",
      "Epoch 94/100\n",
      "105/105 [==============================] - 0s 2ms/step - loss: 0.0020 - mse: 0.0020 - val_loss: 0.0020 - val_mse: 0.0020\n",
      "Epoch 95/100\n",
      "105/105 [==============================] - 0s 2ms/step - loss: 0.0020 - mse: 0.0020 - val_loss: 0.0018 - val_mse: 0.0018\n",
      "Epoch 96/100\n",
      "105/105 [==============================] - 0s 2ms/step - loss: 0.0020 - mse: 0.0020 - val_loss: 0.0019 - val_mse: 0.0019\n",
      "Epoch 97/100\n",
      "105/105 [==============================] - 0s 2ms/step - loss: 0.0019 - mse: 0.0019 - val_loss: 0.0021 - val_mse: 0.0021\n",
      "Epoch 98/100\n",
      "105/105 [==============================] - 0s 2ms/step - loss: 0.0019 - mse: 0.0019 - val_loss: 0.0024 - val_mse: 0.0024\n",
      "Epoch 99/100\n",
      "105/105 [==============================] - 0s 2ms/step - loss: 0.0021 - mse: 0.0021 - val_loss: 0.0020 - val_mse: 0.0020\n",
      "Epoch 100/100\n",
      "105/105 [==============================] - 0s 1ms/step - loss: 0.0019 - mse: 0.0019 - val_loss: 0.0018 - val_mse: 0.0018\n"
     ]
    }
   ],
   "source": [
    "N_EPOCHS = 100\n",
    "history = model.fit(X_train, y_train, epochs = N_EPOCHS, validation_data=(X_test, y_test))"
   ]
  },
  {
   "cell_type": "code",
   "execution_count": 53,
   "id": "96e9c7d9",
   "metadata": {},
   "outputs": [
    {
     "name": "stdout",
     "output_type": "stream",
     "text": [
      "27/27 [==============================] - 0s 1ms/step - loss: 0.0018 - mse: 0.0018\n"
     ]
    },
    {
     "data": {
      "text/plain": [
       "[0.0018307124264538288, 0.0018307124264538288]"
      ]
     },
     "execution_count": 53,
     "metadata": {},
     "output_type": "execute_result"
    }
   ],
   "source": [
    "model.evaluate(X_test, y_test)"
   ]
  },
  {
   "cell_type": "code",
   "execution_count": 54,
   "id": "40f8bc34",
   "metadata": {},
   "outputs": [
    {
     "data": {
      "image/png": "[encoded data removed]",
      "text/plain": [
       "<Figure size 1000x700 with 1 Axes>"
      ]
     },
     "metadata": {},
     "output_type": "display_data"
    }
   ],
   "source": [
    "import matplotlib.pyplot as plt\n",
    "plt.figure(figsize=(10,7))\n",
    "plt.plot(range(N_EPOCHS), history.history['loss'], label='train loss')\n",
    "plt.plot(range(N_EPOCHS), history.history['val_loss'], label='test loss')\n",
    "plt.xlabel('Epoch')\n",
    "plt.ylabel('Loss')\n",
    "plt.legend()\n",
    "plt.show()"
   ]
  },
  {
   "cell_type": "code",
   "execution_count": 55,
   "id": "1c160030",
   "metadata": {},
   "outputs": [
    {
     "data": {
      "image/png": "[encoded data removed]",
      "text/plain": [
       "<Figure size 1000x700 with 1 Axes>"
      ]
     },
     "metadata": {},
     "output_type": "display_data"
    }
   ],
   "source": [
    "import matplotlib.pyplot as plt\n",
    "plt.figure(figsize=(10,7))\n",
    "plt.plot(range(N_EPOCHS), history.history['mse'], label='mse')\n",
    "plt.plot(range(N_EPOCHS), history.history['val_mse'], label='test mse')\n",
    "plt.xlabel('Epoch')\n",
    "plt.ylabel('Loss')\n",
    "plt.legend()\n",
    "plt.show()"
   ]
  },
  {
   "cell_type": "code",
   "execution_count": null,
   "id": "fa72aff7",
   "metadata": {},
   "outputs": [],
   "source": []
  }
 ],
 "metadata": {
  "kernelspec": {
   "display_name": "Python 3 (ipykernel)",
   "language": "python",
   "name": "python3"
  },
  "language_info": {
   "codemirror_mode": {
    "name": "ipython",
    "version": 3
   },
   "file_extension": ".py",
   "mimetype": "text/x-python",
   "name": "python",
   "nbconvert_exporter": "python",
   "pygments_lexer": "ipython3",
   "version": "3.9.13"
  }
 },
 "nbformat": 4,
 "nbformat_minor": 5
}
